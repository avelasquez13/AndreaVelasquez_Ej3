{
 "cells": [
  {
   "cell_type": "code",
   "execution_count": 1,
   "metadata": {
    "collapsed": true
   },
   "outputs": [],
   "source": [
    "import numpy as np\n",
    "import matplotlib.pyplot as plt\n",
    "from sklearn.ensemble import RandomForestClassifier\n",
    "\n",
    "arch = open('Dorothea/dorothea_train.data')\n",
    "train_data = np.zeros([800,100000],dtype='int')\n",
    "\n",
    "for i in range(800):\n",
    "    linea = arch.readline()\n",
    "    dat_lin = linea.split()\n",
    "    dat = np.array(dat_lin,dtype='int')\n",
    "    n = 0\n",
    "    for j in range(100000):\n",
    "        if (j == dat[n]):\n",
    "            train_data[i,j] = 1\n",
    "            n += 1\n",
    "            if (n>=len(dat)):\n",
    "                n = 0\n",
    "\n",
    "arch = open('Dorothea/dorothea_train.labels')\n",
    "train_labels = np.zeros([800,1],dtype='int')\n",
    "\n",
    "for i in range(800):\n",
    "    linea = arch.readline()\n",
    "    dat_lin = linea.split()\n",
    "    dat = np.array(dat_lin,dtype='int')\n",
    "    train_labels[i] = dat[0]\n",
    "\n",
    "arch = open('Dorothea/dorothea_valid.data')\n",
    "valid_data = np.zeros([350,100000],dtype='int')\n",
    "\n",
    "for i in range(350):\n",
    "    linea = arch.readline()\n",
    "    dat_lin = linea.split()\n",
    "    dat = np.array(dat_lin,dtype='int')\n",
    "    n = 0\n",
    "    for j in range(100000):\n",
    "        if (j == dat[n]):\n",
    "            valid_data[i,j] = 1\n",
    "            n += 1\n",
    "            if (n>=len(dat)):\n",
    "                n = 0\n",
    "\n",
    "arch = open('Dorothea/dorothea_valid.labels')\n",
    "valid_labels = np.zeros([350,1],dtype='int')\n",
    "\n",
    "for i in range(350):\n",
    "    linea = arch.readline()\n",
    "    dat_lin = linea.split()\n",
    "    dat = np.array(dat_lin,dtype='int')\n",
    "    valid_labels[i] = dat[0]"
   ]
  },
  {
   "cell_type": "code",
   "execution_count": 23,
   "metadata": {
    "collapsed": false
   },
   "outputs": [],
   "source": [
    "N=10\n",
    "est=60\n",
    "predict=np.zeros(350)\n",
    "ii=np.zeros(100000)\n",
    "for n in range(N):\n",
    "    rf = RandomForestClassifier(n_estimators=est)\n",
    "    rf.fit(train_data,train_labels.T[0])\n",
    "\n",
    "    predict += rf.predict(valid_data)\n",
    "    ERR = 1 - np.sum(predict == valid_labels.T[0])/350.0\n",
    "\n",
    "    sort = np.argsort(rf.feature_importances_)\n",
    "    for i in range(len(sort)):\n",
    "        ii[sort[i]]+=i            "
   ]
  },
  {
   "cell_type": "code",
   "execution_count": 24,
   "metadata": {
    "collapsed": false
   },
   "outputs": [
    {
     "name": "stdout",
     "output_type": "stream",
     "text": [
      "0.96\n"
     ]
    }
   ],
   "source": [
    "for p in range(len(predict)):\n",
    "    if(predict[p]>=5):\n",
    "        predict[p]=1\n",
    "    else:\n",
    "        predict[p]=0\n",
    "                   \n",
    "ERR = 1 - np.sum(predict == valid_labels.T[0])/350.0\n",
    "print(ERR)"
   ]
  },
  {
   "cell_type": "code",
   "execution_count": 25,
   "metadata": {
    "collapsed": false
   },
   "outputs": [
    {
     "name": "stdout",
     "output_type": "stream",
     "text": [
      "[25762 98301  2526 75364 80131 19461 51346 45474 76834 44380]\n"
     ]
    }
   ],
   "source": [
    "mas_importantes = np.argsort(ii)\n",
    "print(mas_importantes[-1:-11:-1])"
   ]
  }
 ],
 "metadata": {
  "kernelspec": {
   "display_name": "Python 2",
   "language": "python",
   "name": "python2"
  },
  "language_info": {
   "codemirror_mode": {
    "name": "ipython",
    "version": 2
   },
   "file_extension": ".py",
   "mimetype": "text/x-python",
   "name": "python",
   "nbconvert_exporter": "python",
   "pygments_lexer": "ipython2",
   "version": "2.7.6"
  }
 },
 "nbformat": 4,
 "nbformat_minor": 0
}
