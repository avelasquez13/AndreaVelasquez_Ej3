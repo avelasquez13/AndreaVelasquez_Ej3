{
 "cells": [
  {
   "cell_type": "code",
   "execution_count": 1,
   "metadata": {
    "collapsed": true
   },
   "outputs": [],
   "source": [
    "import numpy as np\n",
    "import matplotlib.pyplot as plt\n",
    "from sklearn.ensemble import RandomForestClassifier\n",
    "\n",
    "arch = open('Dorothea/dorothea_train.data')\n",
    "train_data = np.zeros([800,100000],dtype='int')\n",
    "\n",
    "for i in range(800):\n",
    "    linea = arch.readline()\n",
    "    dat_lin = linea.split()\n",
    "    dat = np.array(dat_lin,dtype='int')\n",
    "    n = 0\n",
    "    for j in range(100000):\n",
    "        if (j == dat[n]):\n",
    "            train_data[i,j] = 1\n",
    "            n += 1\n",
    "            if (n>=len(dat)):\n",
    "                n = 0\n",
    "\n",
    "arch = open('Dorothea/dorothea_train.labels')\n",
    "train_labels = np.zeros([800,1],dtype='int')\n",
    "\n",
    "for i in range(800):\n",
    "    linea = arch.readline()\n",
    "    dat_lin = linea.split()\n",
    "    dat = np.array(dat_lin,dtype='int')\n",
    "    train_labels[i] = dat[0]\n",
    "\n",
    "arch = open('Dorothea/dorothea_valid.data')\n",
    "valid_data = np.zeros([350,100000],dtype='int')\n",
    "\n",
    "for i in range(350):\n",
    "    linea = arch.readline()\n",
    "    dat_lin = linea.split()\n",
    "    dat = np.array(dat_lin,dtype='int')\n",
    "    n = 0\n",
    "    for j in range(100000):\n",
    "        if (j == dat[n]):\n",
    "            valid_data[i,j] = 1\n",
    "            n += 1\n",
    "            if (n>=len(dat)):\n",
    "                n = 0\n",
    "\n",
    "arch = open('Dorothea/dorothea_valid.labels')\n",
    "valid_labels = np.zeros([350,1],dtype='int')\n",
    "\n",
    "for i in range(350):\n",
    "    linea = arch.readline()\n",
    "    dat_lin = linea.split()\n",
    "    dat = np.array(dat_lin,dtype='int')\n",
    "    valid_labels[i] = dat[0]"
   ]
  },
  {
   "cell_type": "code",
   "execution_count": 2,
   "metadata": {
    "collapsed": false
   },
   "outputs": [
    {
     "name": "stdout",
     "output_type": "stream",
     "text": [
      "10 0.931428571429 81610 25762\n",
      "15 0.934285714286 15130 80131\n",
      "20 0.937142857143 92539 43731\n",
      "25 0.94 55096 40076\n",
      "30 0.934285714286 412 57187\n",
      "35 0.94 92539 5057\n",
      "40 0.931428571429 28052 5679\n",
      "45 0.945714285714 2526 75364\n"
     ]
    }
   ],
   "source": [
    "for x in [10, 15, 20, 25, 30, 35, 40, 45]:\n",
    "    rf = RandomForestClassifier(n_estimators=x)\n",
    "    rf.fit(train_data,train_labels.T[0])\n",
    "\n",
    "    predict = rf.predict(valid_data)\n",
    "    ERR = 1 - np.sum(predict == valid_labels.T[0])/350.0\n",
    "\n",
    "    ii = np.argsort(rf.feature_importances_)\n",
    "    uno = ii[-1]\n",
    "    dos = ii[-2]\n",
    "    \n",
    "    print(x, 1-ERR, uno, dos)"
   ]
  },
  {
   "cell_type": "code",
   "execution_count": null,
   "metadata": {
    "collapsed": false
   },
   "outputs": [],
   "source": [
    "N=10\n",
    "est=60\n",
    "predict=np.zeros(350)\n",
    "ii=np.zeros(100000)\n",
    "for n in range(N):\n",
    "    rf = RandomForestClassifier(n_estimators=est)\n",
    "    rf.fit(train_data,train_labels.T[0])\n",
    "\n",
    "    predict += rf.predict(valid_data)\n",
    "    ERR = 1 - np.sum(predict == valid_labels.T[0])/350.0\n",
    "\n",
    "    sort = np.argsort(rf.feature_importances_)\n",
    "    for i in range(len(sort)):\n",
    "        ii[sort[i]]+=i            "
   ]
  },
  {
   "cell_type": "code",
   "execution_count": 22,
   "metadata": {
    "collapsed": false
   },
   "outputs": [
    {
     "name": "stdout",
     "output_type": "stream",
     "text": [
      "0.957142857143\n"
     ]
    }
   ],
   "source": [
    "for p in range(len(predict)):\n",
    "    if(predict[p]>=5):\n",
    "        predict[p]=1\n",
    "    else:\n",
    "        predict[p]=0\n",
    "                   \n",
    "ERR = 1 - np.sum(predict == valid_labels.T[0])/350.0\n",
    "print(ERR)"
   ]
  },
  {
   "cell_type": "code",
   "execution_count": 21,
   "metadata": {
    "collapsed": false
   },
   "outputs": [
    {
     "name": "stdout",
     "output_type": "stream",
     "text": [
      "[15130 89870  3948 45474 55371 80131  2526 25762   412 40076]\n"
     ]
    }
   ],
   "source": [
    "mas_importantes = np.argsort(ii)\n",
    "print(mas_importantes[-1:-11:-1])"
   ]
  }
 ],
 "metadata": {
  "kernelspec": {
   "display_name": "Python 2",
   "language": "python",
   "name": "python2"
  },
  "language_info": {
   "codemirror_mode": {
    "name": "ipython",
    "version": 2
   },
   "file_extension": ".py",
   "mimetype": "text/x-python",
   "name": "python",
   "nbconvert_exporter": "python",
   "pygments_lexer": "ipython2",
   "version": "2.7.6"
  }
 },
 "nbformat": 4,
 "nbformat_minor": 0
}
